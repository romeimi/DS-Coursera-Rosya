{
 "cells": [
  {
   "cell_type": "markdown",
   "id": "61ab8f18",
   "metadata": {},
   "source": [
    "# Data Science Tools and Ecosystem"
   ]
  },
  {
   "cell_type": "markdown",
   "id": "2d2f7da6",
   "metadata": {},
   "source": [
    "In this notebook, Data Science Tools and Ecosystem are summarized."
   ]
  },
  {
   "cell_type": "markdown",
   "id": "cacc3fe2",
   "metadata": {},
   "source": [
    "Objectives:\n",
    "*  Python\n",
    "*  R\n",
    "*  SQL\n",
    "*  Julia\n",
    "*  Java"
   ]
  },
  {
   "cell_type": "markdown",
   "id": "e862deb1",
   "metadata": {},
   "source": [
    "Some of the popular languages that Data Scientists use are:\n",
    "\n",
    "1. Python\n",
    "2. R\n",
    "3. SQL\n",
    "4. Julia\n",
    "5. SAS(Statistical Analysis System)\n",
    "6. Java"
   ]
  },
  {
   "cell_type": "markdown",
   "id": "2e265e78",
   "metadata": {},
   "source": [
    "Some of the commonly used libraries used by Data Scientists include:\n",
    "*   Numpy\n",
    "*   Pandas\n",
    "*   Matplotlib\n",
    "*   Seaborn\n",
    "*   Scikit-learn\n",
    "*   Tensorflow\n",
    "*   PyTorch\n",
    "*   Keras\n",
    "*   Statsmodels\n",
    "*   NLTK (Natural Language Toolkit)\n",
    "*   spaCy\n",
    "*   OpenCV\n",
    "*   Beautiful Soup\n",
    "*   Gensim"
   ]
  },
  {
   "cell_type": "markdown",
   "id": "aa3b9070",
   "metadata": {},
   "source": [
    "|Data Science Tools|\n",
    "|-----|\n",
    "|Jupyter Notebooks|\n",
    "|RStudio|\n",
    "|Anaconda|"
   ]
  },
  {
   "cell_type": "markdown",
   "id": "647795e5",
   "metadata": {},
   "source": [
    "### Below are a few examples of evaluating arithmetic expressions in Python"
   ]
  },
  {
   "cell_type": "code",
   "execution_count": 2,
   "id": "41574d99",
   "metadata": {},
   "outputs": [
    {
     "data": {
      "text/plain": [
       "17"
      ]
     },
     "execution_count": 2,
     "metadata": {},
     "output_type": "execute_result"
    }
   ],
   "source": [
    "(3*4)+5\n",
    "#This a simple arithmetic expression to mutiply then add integers"
   ]
  },
  {
   "cell_type": "code",
   "execution_count": 3,
   "id": "d1504984",
   "metadata": {},
   "outputs": [
    {
     "data": {
      "text/plain": [
       "3.3333333333333335"
      ]
     },
     "execution_count": 3,
     "metadata": {},
     "output_type": "execute_result"
    }
   ],
   "source": [
    "200/60\n",
    "#This will convert 200 minutes to hours by diving by 60"
   ]
  },
  {
   "cell_type": "markdown",
   "id": "72840aea",
   "metadata": {},
   "source": [
    "## Author\n",
    "Rosyaifa Meifani Pratami"
   ]
  },
  {
   "cell_type": "code",
   "execution_count": null,
   "id": "1f6e3f1c",
   "metadata": {},
   "outputs": [],
   "source": []
  }
 ],
 "metadata": {
  "kernelspec": {
   "display_name": "Python 3 (ipykernel)",
   "language": "python",
   "name": "python3"
  },
  "language_info": {
   "codemirror_mode": {
    "name": "ipython",
    "version": 3
   },
   "file_extension": ".py",
   "mimetype": "text/x-python",
   "name": "python",
   "nbconvert_exporter": "python",
   "pygments_lexer": "ipython3",
   "version": "3.10.9"
  }
 },
 "nbformat": 4,
 "nbformat_minor": 5
}
